{
 "cells": [
  {
   "cell_type": "code",
   "execution_count": 51,
   "metadata": {},
   "outputs": [],
   "source": [
    "import statsmodels.api as sm\n",
    "import locale\n",
    "import math as math\n",
    "import patsy\n",
    "import pandas as pd\n",
    "import numpy as np\n",
    "import matplotlib.pyplot as plt\n",
    "import pandas as pd\n",
    "import plotly.graph_objects as go\n",
    "from prettytable import PrettyTable\n"
   ]
  },
  {
   "cell_type": "code",
   "execution_count": 1,
   "metadata": {},
   "outputs": [],
   "source": [
    "from prettytable import PrettyTable\n",
    "\n",
    "dane = PrettyTable()\n",
    "dane.field_names = [\"Charakterystyki\", \"Styczeń\", \"Luty\", \"Marzec\"]\n",
    "\n",
    "dane.align[\"Charakterystyki\"] = \"l\"\n",
    "\n",
    "dane.add_row([\"Zapas początkowy (szt.)\",0, 1.000, 1.000])\n",
    "dane.add_row([\"Wielkość produkcji w okresie (szt.)\", 4.000, 4.000, 4.000])\n",
    "dane.add_row([\"Sprzedaż w okresie (szt.)\", 3.000, 4.000, 5.000])\n",
    "dane.add_row([\"Zapas końcowy (szt.)\", 1.000, 1.000, 0])\n",
    "dane.add_row([\"Cena sprzedaży (zł/szt.)\", 7, 8, 9])\n",
    "dane.add_row([\"Materiały bezpośrednie (zł/szt.)\", 2, 2, 2])\n",
    "dane.add_row([\"Robocizna bezpośrednia (zł/szt.)\", 0.5, 1, 1.5])\n",
    "dane.add_row([\"Zmienne koszty wydziałowe (zł/szt.)\", 0.5, 1, 1])\n",
    "dane.add_row([\"Stałe koszty wydziałowe (zł)\", 4.000, 4.000, 4.000])\n",
    "dane.add_row([\"Koszty sprzedaży (zł)\", 2.500, 2.700, 3.000])\n",
    "dane.add_row([\"Koszty zarządu (zł)\", 3.300, 3.600, 3.900])\n"
   ]
  },
  {
   "cell_type": "markdown",
   "metadata": {},
   "source": [
    "#Rachunek kosztów zmiennych"
   ]
  },
  {
   "cell_type": "markdown",
   "metadata": {},
   "source": [
    "Zadanie 1\n",
    "Założenia\n",
    "Spółka ABC – będąca przedsiębiorstwem produkcyjnym – zajmuje się produkcją i sprzedażą produktu,\n",
    "którego kalkulacja kosztu wytworzenia prowadzona jest według rachunku kosztów zmiennych. W\n",
    "ostatnim kwartale sprzedaż i produkcja charakteryzowała się następującymi wielkościami:"
   ]
  },
  {
   "cell_type": "code",
   "execution_count": 2,
   "metadata": {},
   "outputs": [
    {
     "name": "stdout",
     "output_type": "stream",
     "text": [
      "+-------------------------------------+---------+------+--------+\n",
      "| Charakterystyki                     | Styczeń | Luty | Marzec |\n",
      "+-------------------------------------+---------+------+--------+\n",
      "| Zapas początkowy (szt.)             |    0    | 1000 |  1000  |\n",
      "| Wielkość produkcji w okresie (szt.) |   4000  | 4000 |  4000  |\n",
      "| Sprzedaż w okresie (szt.)           |   3000  | 4000 |  5000  |\n",
      "| Zapas końcowy (szt.)                |   1000  | 1000 |   0    |\n",
      "| Cena sprzedaży (zł/szt.)            |    7    |  8   |   9    |\n",
      "| Materiały bezpośrednie (zł/szt.)    |    2    |  2   |   2    |\n",
      "| Robocizna bezpośrednia (zł/szt.)    |   0.5   |  1   |  1.5   |\n",
      "| Zmienne koszty wydziałowe (zł/szt.) |   0.5   |  1   |   1    |\n",
      "| Stałe koszty wydziałowe (zł)        |   4000  | 4000 |  4000  |\n",
      "| Koszty sprzedaży (zł)               |   2500  | 2700 |  3000  |\n",
      "| Koszty zarządu (zł)                 |   3300  | 3600 |  3900  |\n",
      "+-------------------------------------+---------+------+--------+\n"
     ]
    }
   ],
   "source": [
    "print(dane);"
   ]
  },
  {
   "cell_type": "markdown",
   "metadata": {},
   "source": [
    "Polecenia\n",
    "Sporządź rachunek zysków i strat oraz ustal wartość zapasu produktów na koniec każdego z okresów\n",
    "sprawozdawczych, zakładając iż wycena rozchodu produktów gotowych z magazynu dokonywana jest\n",
    "według zasady:\n",
    "a) fifo,\n",
    "b) lifo,\n",
    "c) średniej ważonej."
   ]
  },
  {
   "cell_type": "code",
   "execution_count": 7,
   "metadata": {},
   "outputs": [],
   "source": [
    "styczeń = [0 , 4000, 3000, 1000, 7, 2, 0.5, 0.5, 4000, 2500, 3300]\n",
    "luty = [1000, 4000, 4000, 1000, 8, 2, 1, 1, 4000, 2700, 3600]\n",
    "marzec = [1000, 4000, 5000, 0, 9, 2, 1.5, 1, 4000, 3000, 3900]\n",
    "\n",
    "# przychody ze sprzedaży\n",
    "przychodyStyczeń = styczeń[4] * styczeń[2]\n",
    "przychodyLuty = luty[4] * luty [2]\n",
    "przychodyMarzec = marzec[4] * marzec[2]\n",
    "# jednostkowe koszty zmienne\n",
    "kjzStyczeń = styczeń[5] + styczeń[6] + styczeń[7] + (styczeń[8]/styczeń[1])\n",
    "kjzLuty = luty[5] + luty[6] + luty[7] + (luty[8]/luty[1])\n",
    "kjzMarzec =marzec[5] + marzec[6] + marzec[7] + (marzec[8]/marzec[1])\n",
    "# koszt zmienny sprzedanych wyrobów\n",
    "kjzSprzedażStyczeń = kjzStyczeń * styczeń[2]\n",
    "kjzSprzedażLuty = kjzLuty * luty[2]\n",
    "kjzSprzedażMarzec = kjzMarzec * marzec[2]\n",
    "# koszty okresu\n",
    "kOkresuStyczeń = styczeń[9] + styczeń[10]\n",
    "kOkresuLuty = luty[9] + luty[10]\n",
    "kOkresuMarzec = marzec[9] + marzec[10]\n",
    "# wynik finansowy\n",
    "wynikFinansowyStyczeń = przychodyStyczeń - kjzSprzedażStyczeń - kOkresuStyczeń\n",
    "wynikFinansowyLuty = przychodyLuty - kjzSprzedażLuty - kOkresuLuty\n",
    "wynikFinansowyMarzec = przychodyMarzec - kjzSprzedażMarzec - kOkresuMarzec\n",
    "# wartość zapasu produktów pracy\n",
    "zapasStyczeń = kjzStyczeń * styczeń[3]\n",
    "zapasLuty = kjzLuty * luty[3]\n",
    "zapasMarzec = kjzMarzec * marzec[3]"
   ]
  },
  {
   "cell_type": "code",
   "execution_count": 49,
   "metadata": {},
   "outputs": [
    {
     "name": "stdout",
     "output_type": "stream",
     "text": [
      "Metoda FiFo\n",
      "+---------+------------------------------------------------+-----------------+----------+\n",
      "|  Okres  | Relacja pomiędzy produkcją a sprzedażą(w szt.) | Wynik finansowy |  Zapas   |\n",
      "+---------+------------------------------------------------+-----------------+----------+\n",
      "| Styczeń |              Produkcja > Sprzedaż              |      3.200.0    |  4.000.0 |\n",
      "|   Luty  |             Produkcja == Sprzedaż              |      5.700.0    |  4.000.0 |\n",
      "|  Marzec |              Produkcja < Sprzedaż              |     10.600.0    |      0.0 |\n",
      "+---------+------------------------------------------------+-----------------+----------+\n"
     ]
    }
   ],
   "source": [
    "wyniki = PrettyTable()\n",
    "wyniki.field_names = [\"Okres\",\"Relacja pomiędzy produkcją a sprzedażą(w szt.)\", \"Wynik finansowy\",\"Zapas\"]\n",
    "\n",
    "wyniki.add_row([\"Styczeń\",\"Produkcja > Sprzedaż\",format(wynikFinansowyStyczeń, \"8,.1f\").replace(\",\", \".\"), format(zapasStyczeń, \"8,.1f\").replace(\",\", \".\")])\n",
    "wyniki.add_row([\"Luty\",\"Produkcja == Sprzedaż\",format(wynikFinansowyLuty, \"8,.1f\").replace(\",\", \".\"), format(zapasLuty, \"8,.1f\").replace(\",\", \".\")])\n",
    "wyniki.add_row([\"Marzec\", \"Produkcja < Sprzedaż\",format(wynikFinansowyMarzec, \"8,.1f\").replace(\",\", \".\"), format(zapasMarzec, \"8,.1f\").replace(\",\", \".\")])\n",
    "\n",
    "print(\"Metoda FiFo\")\n",
    "print(wyniki);"
   ]
  },
  {
   "cell_type": "code",
   "execution_count": 9,
   "metadata": {},
   "outputs": [],
   "source": [
    "styczeń = [0 , 4000, 3000, 1000, 7, 2, 0.5, 0.5, 4000, 2500, 3300]\n",
    "luty = [1000, 4000, 4000, 1000, 8, 2, 1, 1, 4000, 2700, 3600]\n",
    "marzec = [1000, 4000, 5000, 0, 9, 2, 1.5, 1, 4000, 3000, 3900]\n",
    "\n",
    "# przychody ze sprzedaży\n",
    "przychodyStyczeń = styczeń[4] * styczeń[2]\n",
    "przychodyLuty = luty[4] * luty [2]\n",
    "przychodyMarzec = marzec[4] * marzec[2]\n",
    "# jednostkowe koszty zmienne\n",
    "kjzStyczeń = styczeń[5] + styczeń[6] + styczeń[7] + (styczeń[8]/styczeń[1])\n",
    "kjzLuty = luty[5] + luty[6] + luty[7] + (luty[8]/luty[1])\n",
    "kjzMarzec =marzec[5] + marzec[6] + marzec[7] + (marzec[8]/marzec[1])\n",
    "# koszt zmienny sprzedanych wyrobów\n",
    "kjzSprzedażStyczeń = kjzStyczeń * styczeń[2]\n",
    "kjzSprzedażLuty = kjzLuty * luty[2]\n",
    "kjzSprzedażMarzec = kjzMarzec * marzec[2]\n",
    "# koszty okresu\n",
    "kOkresuStyczeń = styczeń[9] + styczeń[10]\n",
    "kOkresuLuty = luty[9] + luty[10]\n",
    "kOkresuMarzec = marzec[9] + marzec[10]\n",
    "# wynik finansowy\n",
    "wynikFinansowyStyczeń = przychodyStyczeń - kjzSprzedażStyczeń - kOkresuStyczeń\n",
    "wynikFinansowyLuty = przychodyLuty - kjzSprzedażLuty - kOkresuLuty\n",
    "wynikFinansowyMarzec = przychodyMarzec - kjzSprzedażMarzec - kOkresuMarzec\n",
    "# wartość zapasu produktów pracy\n",
    "zapasStyczeń = kjzStyczeń * styczeń[3]\n",
    "zapasLuty = kjzStyczeń * luty[3]\n",
    "zapasMarzec = kjzLuty * marzec[3] #no nie będzie wpływu bo 0 jest zapas"
   ]
  },
  {
   "cell_type": "code",
   "execution_count": 55,
   "metadata": {},
   "outputs": [
    {
     "name": "stdout",
     "output_type": "stream",
     "text": [
      "Metoda LiFo\n",
      "+---------+------------------------------------------------+-----------------+----------+\n",
      "|  Okres  | Relacja pomiędzy produkcją a sprzedażą(w szt.) | Wynik finansowy |  Zapas   |\n",
      "+---------+------------------------------------------------+-----------------+----------+\n",
      "| Styczeń |              Produkcja > Sprzedaż              |      3.200.0    |  4.000.0 |\n",
      "|   Luty  |             Produkcja == Sprzedaż              |      5.700.0    |  4.000.0 |\n",
      "|  Marzec |              Produkcja < Sprzedaż              |     10.600.0    |      0.0 |\n",
      "+---------+------------------------------------------------+-----------------+----------+\n"
     ]
    }
   ],
   "source": [
    "math.trunc ( wynikFinansowyStyczeń )\n",
    "math.trunc ( wynikFinansowyLuty )\n",
    "math.trunc ( wynikFinansowyMarzec )\n",
    "math.trunc ( zapasStyczeń )\n",
    "math.trunc ( zapasLuty )\n",
    "math.trunc ( zapasMarzec )\n",
    "\n",
    "\n",
    "\n",
    "wyniki = PrettyTable()\n",
    "wyniki.field_names = [\"Okres\",\"Relacja pomiędzy produkcją a sprzedażą(w szt.)\", \"Wynik finansowy\",\"Zapas\"]\n",
    "\n",
    "\n",
    "\n",
    "wyniki.add_row([\"Styczeń\",\"Produkcja > Sprzedaż\",format(wynikFinansowyStyczeń, \"8,.1f\").replace(\",\", \".\"), format(zapasStyczeń, \"8,.1f\").replace(\",\", \".\")])\n",
    "wyniki.add_row([\"Luty\",\"Produkcja == Sprzedaż\",format(wynikFinansowyLuty, \"8,.1f\").replace(\",\", \".\"), format(zapasLuty, \"8,.1f\").replace(\",\", \".\")])\n",
    "wyniki.add_row([\"Marzec\", \"Produkcja < Sprzedaż\",format(wynikFinansowyMarzec, \"8,.1f\").replace(\",\", \".\"), format(zapasMarzec, \"8,.1f\").replace(\",\", \".\")])\n",
    "\n",
    "print(\"Metoda LiFo\")\n",
    "print(wyniki);"
   ]
  },
  {
   "cell_type": "code",
   "execution_count": null,
   "metadata": {},
   "outputs": [],
   "source": []
  },
  {
   "cell_type": "code",
   "execution_count": null,
   "metadata": {},
   "outputs": [],
   "source": []
  }
 ],
 "metadata": {
  "kernelspec": {
   "display_name": "Python 3",
   "language": "python",
   "name": "python3"
  },
  "language_info": {
   "codemirror_mode": {
    "name": "ipython",
    "version": 3
   },
   "file_extension": ".py",
   "mimetype": "text/x-python",
   "name": "python",
   "nbconvert_exporter": "python",
   "pygments_lexer": "ipython3",
   "version": "3.7.4"
  }
 },
 "nbformat": 4,
 "nbformat_minor": 4
}
