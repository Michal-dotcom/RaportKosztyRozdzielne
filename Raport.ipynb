{
 "cells": [
  {
   "cell_type": "code",
   "execution_count": 21,
   "metadata": {},
   "outputs": [],
   "source": [
    "import statsmodels.api as sm\n",
    "import locale\n",
    "import math as math\n",
    "import patsy\n",
    "import pandas as pd\n",
    "import numpy as np\n",
    "import matplotlib.pyplot as plt\n",
    "import pandas as pd\n",
    "import plotly.graph_objects as go\n",
    "from prettytable import PrettyTable\n",
    "from prettytable import from_csv\n",
    "from ipywidgets import *\n"
   ]
  },
  {
   "cell_type": "code",
   "execution_count": 22,
   "metadata": {
    "jupyter": {
     "source_hidden": true
    }
   },
   "outputs": [],
   "source": [
    "from prettytable import PrettyTable\n",
    "#dane, tstyle=TableStyle(theme=\"theme1\"), center=True)\n",
    "dane = PrettyTable()\n",
    "dane.field_names = [\"Charakterystyki\", \"Styczeń\", \"Luty\", \"Marzec\"]\n",
    "dane.align[\"Charakterystyki\"] = \"l\"\n",
    "\n",
    "dane.add_row([\"Zapas początkowy (szt.)\",0, 1.000, 1.000])\n",
    "dane.add_row([\"Wielkość produkcji w okresie (szt.)\", 4.000, 4.000, 4.000])\n",
    "dane.add_row([\"Sprzedaż w okresie (szt.)\", 3.000, 4.000, 5.000])\n",
    "dane.add_row([\"Zapas końcowy (szt.)\", 1.000, 1.000, 0])\n",
    "dane.add_row([\"Cena sprzedaży (zł/szt.)\", 7, 8, 9])\n",
    "dane.add_row([\"Materiały bezpośrednie (zł/szt.)\", 2, 2, 2])\n",
    "dane.add_row([\"Robocizna bezpośrednia (zł/szt.)\", 0.5, 1, 1.5])\n",
    "dane.add_row([\"Zmienne koszty wydziałowe (zł/szt.)\", 0.5, 1, 1])\n",
    "dane.add_row([\"Stałe koszty wydziałowe (zł)\", 4.000, 4.000, 4.000])\n",
    "dane.add_row([\"Koszty sprzedaży (zł)\", 2.500, 2.700, 3.000])\n",
    "dane.add_row([\"Koszty zarządu (zł)\", 3.300, 3.600, 3.900])\n",
    "\n",
    "#cs = CellStyle()\n",
    "#print(dane);"
   ]
  },
  {
   "cell_type": "code",
   "execution_count": 23,
   "metadata": {
    "jupyter": {
     "source_hidden": true
    }
   },
   "outputs": [
    {
     "name": "stdout",
     "output_type": "stream",
     "text": [
      "+---------------------------------------+----------+-------+--------+\n",
      "|            Charakterystyka            | StyczeÅ„ |  Luty | Marzec |\n",
      "+---------------------------------------+----------+-------+--------+\n",
      "|        Zapas poczÄ…tkowy (szt.)       |    0     | 1.000 | 1.000  |\n",
      "| WielkoÅ›Ä‡ produkcji w okresie (szt.) |  4.000   | 4.000 | 4.000  |\n",
      "|       SprzedaÅ¼ w okresie (szt.)      |  3.000   | 4.000 | 5.000  |\n",
      "|         Zapas koÅ„cowy (szt.)         |  1.000   | 1.000 |   0    |\n",
      "|       Cena sprzedaÅ¼y (zÅ‚/szt.)      |    7     |   8   |   9    |\n",
      "|  MateriaÅ‚y bezpoÅ›rednie (zÅ‚/szt.)  |    2     |   2   |   2    |\n",
      "|   Robocizna bezpoÅ›rednia (zÅ‚/szt.)  |   0.5    |   1   |  1.5   |\n",
      "| Zmienne koszty wydziaÅ‚owe (zÅ‚/szt.) |   0.5    |   1   |   1    |\n",
      "|    StaÅ‚e koszty wydziaÅ‚owe (zÅ‚)    |  4.000   | 4.000 | 4.000  |\n",
      "|        Koszty sprzedaÅ¼y (zÅ‚)        |  2.500   | 2.700 | 3.000  |\n",
      "|         Koszty zarzÄ…du (zÅ‚)         |  3.300   | 3.600 | 3.900  |\n",
      "+---------------------------------------+----------+-------+--------+\n"
     ]
    }
   ],
   "source": [
    "#C:\\Users\\micha\\PythonWorkplase\\RaportKosztyRozdzielne\n",
    "\n",
    "x = PrettyTable();\n",
    "with open(\"data.csv\", \"r\") as fp: \n",
    "    x = from_csv(fp)\n",
    "    \n",
    "print(x)"
   ]
  },
  {
   "cell_type": "markdown",
   "metadata": {},
   "source": [
    "#Rachunek kosztów zmiennych"
   ]
  },
  {
   "cell_type": "markdown",
   "metadata": {},
   "source": [
    "Zadanie 1\n",
    "Założenia\n",
    "Spółka ABC – będąca przedsiębiorstwem produkcyjnym – zajmuje się produkcją i sprzedażą produktu,\n",
    "którego kalkulacja kosztu wytworzenia prowadzona jest według rachunku kosztów zmiennych. W\n",
    "ostatnim kwartale sprzedaż i produkcja charakteryzowała się następującymi wielkościami:"
   ]
  },
  {
   "cell_type": "markdown",
   "metadata": {},
   "source": [
    "Polecenia\n",
    "Sporządź rachunek zysków i strat oraz ustal wartość zapasu produktów na koniec każdego z okresów\n",
    "sprawozdawczych, zakładając iż wycena rozchodu produktów gotowych z magazynu dokonywana jest\n",
    "według zasady:\n",
    "a) fifo,\n",
    "b) lifo,\n",
    "c) średniej ważonej."
   ]
  },
  {
   "cell_type": "code",
   "execution_count": 24,
   "metadata": {
    "jupyter": {
     "source_hidden": true
    }
   },
   "outputs": [],
   "source": [
    "styczeń = [0 , 4000, 3000, 1000, 7, 2, 0.5, 0.5, 4000, 2500, 3300]\n",
    "luty = [1000, 4000, 4000, 1000, 8, 2, 1, 1, 4000, 2700, 3600]\n",
    "marzec = [1000, 4000, 5000, 0, 9, 2, 1.5, 1, 4000, 3000, 3900]\n",
    "\n",
    "# przychody ze sprzedaży\n",
    "przychodyStyczeń = styczeń[4] * styczeń[2]\n",
    "przychodyLuty = luty[4] * luty [2]\n",
    "przychodyMarzec = marzec[4] * marzec[2]\n",
    "\n",
    "# jednostkowe koszty zmienne\n",
    "kjzStyczeń = styczeń[5] + styczeń[6] + styczeń[7]\n",
    "kjzLuty = luty[5] + luty[6] + luty[7]\n",
    "kjzMarzec =marzec[5] + marzec[6] + marzec[7]\n",
    "\n",
    "# koszt zmienny wytworzenia sprzedanych wyrobów\n",
    "kzStyczeń = styczeń[2] * kjzStyczeń\n",
    "kzLuty = kjzStyczeń * styczeń[3] + (luty[2]-luty[0]) * kjzLuty\n",
    "kzMarzec = kjzLuty * luty[3] + (marzec[2] - marzec[0]) * kjzMarzec\n",
    "\n",
    "#nadwyżka cenowa\n",
    "ncStyczeń = przychodyStyczeń - kzStyczeń\n",
    "ncLuty = przychodyLuty - kzLuty\n",
    "ncMarzec = przychodyMarzec - kzMarzec\n",
    "\n",
    "# koszty okresu\n",
    "koStyczeń = styczeń[8] + styczeń[9] + styczeń[10]\n",
    "koLuty = luty[8] + luty[9] + luty[10]\n",
    "koMarzec = marzec[8] + marzec[9] + marzec[10]\n",
    "\n",
    "# wynik operacyjny\n",
    "woStyczeń = przychodyStyczeń - kzStyczeń - koStyczeń\n",
    "woLuty = przychodyLuty - kzLuty - koLuty\n",
    "woMarzec = przychodyMarzec - kzMarzec - koMarzec\n",
    "\n",
    "# wartość zapasu produktów pracy\n",
    "zapasStyczeń = kjzStyczeń * styczeń[3]\n",
    "zapasLuty = kjzLuty * luty[3]\n",
    "zapasMarzec = kjzMarzec * marzec[3]\n",
    "\n",
    "styczeńWynikiFifo = [przychodyStyczeń, ncStyczeń, koStyczeń, woStyczeń, zapasStyczeń]\n",
    "lutyWynikiFifo = [przychodyLuty, ncLuty, koLuty, woLuty, zapasLuty]\n",
    "marzecWynikiFifo = [przychodyMarzec, ncMarzec, koMarzec, woMarzec, zapasMarzec]"
   ]
  },
  {
   "cell_type": "code",
   "execution_count": 25,
   "metadata": {},
   "outputs": [
    {
     "name": "stdout",
     "output_type": "stream",
     "text": [
      "Metoda FiFo\n",
      "+---------+------------------------------------------------+------------------+----------+\n",
      "|  Okres  | Relacja pomiędzy produkcją a sprzedażą(w szt.) | Wynik operacyjny |  Zapas   |\n",
      "+---------+------------------------------------------------+------------------+----------+\n",
      "| Styczeń |              Produkcja > Sprzedaż              |       2.200      |  3.000.0 |\n",
      "|   Luty  |             Produkcja == Sprzedaż              |       6.700      |  4.000.0 |\n",
      "|  Marzec |              Produkcja < Sprzedaż              |      12.100      |      0.0 |\n",
      "+---------+------------------------------------------------+------------------+----------+\n"
     ]
    }
   ],
   "source": [
    "wyniki = PrettyTable()\n",
    "wyniki.field_names = [\"Okres\",\"Relacja pomiędzy produkcją a sprzedażą(w szt.)\", \"Wynik operacyjny\",\"Zapas\"]\n",
    "\n",
    "wyniki.add_row([\"Styczeń\",\"Produkcja > Sprzedaż\",format(woStyczeń, \"8,.1f\").replace(\",\", \".\").replace(\".0\", \"\"), format(zapasStyczeń, \"8,.1f\").replace(\",\", \".\")])\n",
    "wyniki.add_row([\"Luty\",\"Produkcja == Sprzedaż\",format(woLuty, \"8,.1f\").replace(\",\", \".\").replace(\".0\", \"\"), format(zapasLuty, \"8,.1f\").replace(\",\", \".\")])\n",
    "wyniki.add_row([\"Marzec\", \"Produkcja < Sprzedaż\",format(woMarzec, \"8,.1f\").replace(\",\", \".\").replace(\".0\", \"\"), format(zapasMarzec, \"8,.1f\").replace(\",\", \".\")])\n",
    "\n",
    "print(\"Metoda FiFo\")\n",
    "print(wyniki);"
   ]
  },
  {
   "cell_type": "markdown",
   "metadata": {},
   "source": [
    "## Obliczenia\n",
    "1. Przychody ze sprzedaży (P):\n",
    "  P = cena x ilość sprzedana   \n",
    "  jednostkowy koszt zmienny (kjz):\n",
    "  kjz = kjzb + kjzp\n",
    "2. Koszt zmienny wytworzenia sprzedanych wyrobów (ZKWS):\n",
    "  ZKWS = kjz x ilość sprzedana\n",
    "3. Nadwyżka cenowa (NC):\n",
    "  NC = P - ZKWS\n",
    "4. Koszty okresu (KO):\n",
    "  Stałe koszty wydziałowe + Koszty sprzedaży + Koszty zarządu\n",
    "5. Wynik operacyjny (WO):\n",
    "  WO = P - ZKWS - KO\n",
    "6. Wartość zapasu (Z):\n",
    "  Z = kjz * ilość zapasu"
   ]
  },
  {
   "cell_type": "code",
   "execution_count": 26,
   "metadata": {
    "jupyter": {
     "source_hidden": true
    }
   },
   "outputs": [],
   "source": [
    "styczeń = [0 , 4000, 3000, 1000, 7, 2, 0.5, 0.5, 4000, 2500, 3300]\n",
    "luty = [1000, 4000, 4000, 1000, 8, 2, 1, 1, 4000, 2700, 3600]\n",
    "marzec = [1000, 4000, 5000, 0, 9, 2, 1.5, 1, 4000, 3000, 3900]\n",
    "\n",
    "# przychody ze sprzedaży\n",
    "przychodyStyczeń = styczeń[4] * styczeń[2]\n",
    "przychodyLuty = luty[4] * luty [2]\n",
    "przychodyMarzec = marzec[4] * marzec[2]\n",
    "\n",
    "# jednostkowe koszty zmienne\n",
    "kjzStyczeń = styczeń[5] + styczeń[6] + styczeń[7]\n",
    "kjzLuty = luty[5] + luty[6] + luty[7]\n",
    "kjzMarzec =marzec[5] + marzec[6] + marzec[7]\n",
    "\n",
    "# koszt zmienny wytworzenia sprzedanych wyrobów\n",
    "kzStyczeń = kjzStyczeń * styczeń[2]\n",
    "kzLuty = kjzLuty * luty[1]\n",
    "kzMarzec = kjzMarzec * marzec[1] + kjzStyczeń * luty[0]\n",
    "\n",
    "#nadwyżka cenowa\n",
    "ncStyczeń = przychodyStyczeń - kzStyczeń\n",
    "ncLuty = przychodyLuty - kzLuty\n",
    "ncMarzec = przychodyMarzec - kzMarzec\n",
    "\n",
    "# koszty okresu\n",
    "koStyczeń = styczeń[8] + styczeń[9] + styczeń[10]\n",
    "koLuty = luty[8] + luty[9] + luty[10]\n",
    "koMarzec = marzec[8] + marzec[9] + marzec[10]\n",
    "\n",
    "# wynik operacyjny\n",
    "woStyczeń = przychodyStyczeń - kzStyczeń - koStyczeń\n",
    "woLuty = przychodyLuty - kzLuty - koLuty\n",
    "woMarzec = przychodyMarzec - kzMarzec - koMarzec\n",
    "\n",
    "# wartość zapasu produktów pracy\n",
    "zapasStyczeń = kjzStyczeń * styczeń[3]\n",
    "zapasLuty = kjzStyczeń * styczeń[3] \n",
    "zapasMarzec = kjzMarzec * marzec[3]\n",
    "\n",
    "styczeńWynikiLifo = [przychodyStyczeń, ncStyczeń, koStyczeń, woStyczeń, zapasStyczeń]\n",
    "lutyWynikiLifo = [przychodyLuty, ncLuty, koLuty, woLuty, zapasLuty]\n",
    "marzecWynikiLifo = [przychodyMarzec, ncMarzec, koMarzec, woMarzec, zapasMarzec]"
   ]
  },
  {
   "cell_type": "code",
   "execution_count": 27,
   "metadata": {
    "jupyter": {
     "source_hidden": true
    }
   },
   "outputs": [
    {
     "name": "stdout",
     "output_type": "stream",
     "text": [
      "Metoda LiFo\n",
      "+---------+------------------------------------------------+------------------+----------+\n",
      "|  Okres  | Relacja pomiędzy produkcją a sprzedażą(w szt.) | Wynik operacyjny |  Zapas   |\n",
      "+---------+------------------------------------------------+------------------+----------+\n",
      "| Styczeń |              Produkcja > Sprzedaż              |       2.200      |  3.000.0 |\n",
      "|   Luty  |             Produkcja == Sprzedaż              |       5.700      |  3.000.0 |\n",
      "|  Marzec |              Produkcja < Sprzedaż              |      13.100      |      0.0 |\n",
      "+---------+------------------------------------------------+------------------+----------+\n"
     ]
    }
   ],
   "source": [
    "wyniki = PrettyTable()\n",
    "wyniki.field_names = [\"Okres\",\"Relacja pomiędzy produkcją a sprzedażą(w szt.)\", \"Wynik operacyjny\",\"Zapas\"]\n",
    "\n",
    "wyniki.add_row([\"Styczeń\",\"Produkcja > Sprzedaż\",format(woStyczeń, \"8,.1f\").replace(\",\", \".\").replace(\".0\", \"\"), format(zapasStyczeń, \"8,.1f\").replace(\",\", \".\")])\n",
    "wyniki.add_row([\"Luty\",\"Produkcja == Sprzedaż\",format(woLuty, \"8,.1f\").replace(\",\", \".\").replace(\".0\", \"\"), format(zapasLuty, \"8,.1f\").replace(\",\", \".\")])\n",
    "wyniki.add_row([\"Marzec\", \"Produkcja < Sprzedaż\",format(woMarzec, \"8,.1f\").replace(\",\", \".\").replace(\".0\", \"\"), format(zapasMarzec, \"8,.1f\").replace(\",\", \".\")])\n",
    "\n",
    "print(\"Metoda LiFo\")\n",
    "print(wyniki);"
   ]
  },
  {
   "cell_type": "markdown",
   "metadata": {},
   "source": [
    "## Obliczenia\n",
    "1. Przychody ze sprzedaży (P):\n",
    "  P = cena x ilość sprzedana   \n",
    "  jednostkowy koszt zmienny (kjz):\n",
    "  kjz = kjzb + kjzp\n",
    "2. Koszt zmienny wytworzenia sprzedanych wyrobów (ZKWS):\n",
    "  ZKWS = kjz(z poprzedniego okresu, jeśli na początek bieżącego był zapas początkowy) * zapas początkowy + kjz * ilość sprzedana\n",
    "3. Nadwyżka cenowa (NC):\n",
    "  NC = P - ZKWS\n",
    "4. Koszty okresu (KO):\n",
    "  Stałe koszty wydziałowe + Koszty sprzedaży + Koszty zarządu\n",
    "5. Wynik operacyjny (WO):\n",
    "  WO = P - ZKWS - KO\n",
    "6. Wartość zapasu (Z):\n",
    "  Z = kjz * ilość zapasu"
   ]
  },
  {
   "cell_type": "code",
   "execution_count": 28,
   "metadata": {
    "jupyter": {
     "source_hidden": true
    }
   },
   "outputs": [],
   "source": [
    "styczeń = [0 , 4000, 3000, 1000, 7, 2, 0.5, 0.5, 4000, 2500, 3300]\n",
    "luty = [1000, 4000, 4000, 1000, 8, 2, 1, 1, 4000, 2700, 3600]\n",
    "marzec = [1000, 4000, 5000, 0, 9, 2, 1.5, 1, 4000, 3000, 3900]\n",
    "\n",
    "# przychody ze sprzedaży\n",
    "przychodyStyczeń = styczeń[4] * styczeń[2]\n",
    "przychodyLuty = luty[4] * luty [2]\n",
    "przychodyMarzec = marzec[4] * marzec[2]\n",
    "\n",
    "# jednostkowe koszty zmienne\n",
    "kjzStyczeń = styczeń[5] + styczeń[6] + styczeń[7]\n",
    "kjzLuty = luty[5] + luty[6] + luty[7]\n",
    "kjzMarzec =marzec[5] + marzec[6] + marzec[7]\n",
    "\n",
    "# koszt ważony\n",
    "kwStyczeń = (kjzStyczeń * styczeń[2]) / styczeń[2]\n",
    "kwLuty = (kjzLuty * luty[1] + kwStyczeń * luty[0])/(luty[0] + luty[1])\n",
    "kwMarzec = (kjzMarzec * marzec[1] + kwLuty * marzec[0]) / (marzec[0] + marzec[1])\n",
    "# koszt zmienny wytworzenia sprzedanych wyrobów\n",
    "kzStyczeń = kwStyczeń * styczeń[2]\n",
    "kzLuty = kwLuty * luty[2]\n",
    "kzMarzec = kwMarzec * marzec[2]\n",
    "\n",
    "#nadwyżka cenowa\n",
    "ncStyczeń = przychodyStyczeń - kzStyczeń\n",
    "ncLuty = przychodyLuty - kzLuty\n",
    "ncMarzec = przychodyMarzec - kzMarzec\n",
    "\n",
    "# koszty okresu\n",
    "koStyczeń = styczeń[8] + styczeń[9] + styczeń[10]\n",
    "koLuty = luty[8] + luty[9] + luty[10]\n",
    "koMarzec = marzec[8] + marzec[9] + marzec[10]\n",
    "\n",
    "# wynik operacyjny\n",
    "woStyczeń = przychodyStyczeń - kzStyczeń - koStyczeń\n",
    "woLuty = przychodyLuty - kzLuty - koLuty\n",
    "woMarzec = przychodyMarzec - kzMarzec - koMarzec\n",
    "\n",
    "# wartość zapasu produktów pracy\n",
    "zapasStyczeń = kwStyczeń * styczeń[3]\n",
    "zapasLuty = kwLuty * styczeń[3] \n",
    "zapasMarzec = kwMarzec * marzec[3]\n",
    "\n",
    "styczeńWynikiWażona = [przychodyStyczeń, ncStyczeń, koStyczeń, woStyczeń, zapasStyczeń]\n",
    "lutyWynikiWażona = [przychodyLuty, ncLuty, koLuty, woLuty, zapasLuty]\n",
    "marzecWynikiWażona = [przychodyMarzec, ncMarzec, koMarzec, woMarzec, zapasMarzec]\n"
   ]
  },
  {
   "cell_type": "code",
   "execution_count": 29,
   "metadata": {
    "jupyter": {
     "source_hidden": true
    }
   },
   "outputs": [
    {
     "name": "stdout",
     "output_type": "stream",
     "text": [
      "Metoda średniej ważonej\n",
      "+---------+------------------------------------------------+------------------+----------+\n",
      "|  Okres  | Relacja pomiędzy produkcją a sprzedażą(w szt.) | Wynik operacyjny |  Zapas   |\n",
      "+---------+------------------------------------------------+------------------+----------+\n",
      "| Styczeń |              Produkcja > Sprzedaż              |       2.200      |  3.000.0 |\n",
      "|   Luty  |             Produkcja == Sprzedaż              |       6.500      |  3.800.0 |\n",
      "|  Marzec |              Produkcja < Sprzedaż              |      12.300      |      0.0 |\n",
      "+---------+------------------------------------------------+------------------+----------+\n"
     ]
    }
   ],
   "source": [
    "wyniki = PrettyTable()\n",
    "wyniki.field_names = [\"Okres\",\"Relacja pomiędzy produkcją a sprzedażą(w szt.)\", \"Wynik operacyjny\",\"Zapas\"]\n",
    "\n",
    "wyniki.add_row([\"Styczeń\",\"Produkcja > Sprzedaż\",format(woStyczeń, \"8,.1f\").replace(\",\", \".\").replace(\".0\", \"\"), format(zapasStyczeń, \"8,.1f\").replace(\",\", \".\")])\n",
    "wyniki.add_row([\"Luty\",\"Produkcja == Sprzedaż\",format(woLuty, \"8,.1f\").replace(\",\", \".\").replace(\".0\", \"\"), format(zapasLuty, \"8,.1f\").replace(\",\", \".\")])\n",
    "wyniki.add_row([\"Marzec\", \"Produkcja < Sprzedaż\",format(woMarzec, \"8,.1f\").replace(\",\", \".\").replace(\".0\", \"\"), format(zapasMarzec, \"8,.1f\").replace(\",\", \".\")])\n",
    "\n",
    "print(\"Metoda średniej ważonej\")\n",
    "print(wyniki);"
   ]
  },
  {
   "cell_type": "markdown",
   "metadata": {},
   "source": [
    "## Obliczenia\n",
    "1. Przychody ze sprzedaży (P):\n",
    "  P = cena x ilość sprzedana   \n",
    "  jednostkowy koszt zmienny (kjz):\n",
    "  kjz = kjzb + kjzp\n",
    "2. Koszt zmienny wytworzenia sprzedanych wyrobów (ZKWS):\n",
    "  ZKWS = (kjz(bieżący) * produkcja bieżącego okresu + kjz(poprzedni) * zapas na początek okresu)/(produkcja bieżącego okresu + zapas na początek okresu\n",
    "3. Nadwyżka cenowa (NC):\n",
    "  NC = P - ZKWS\n",
    "4. Koszty okresu (KO):\n",
    "  Stałe koszty wydziałowe + Koszty sprzedaży + Koszty zarządu\n",
    "5. Wynik operacyjny (WO):\n",
    "  WO = P - ZKWS - KO\n",
    "6. Wartość zapasu (Z):\n",
    "  Z = kjz * ilość zapasu"
   ]
  },
  {
   "cell_type": "code",
   "execution_count": 30,
   "metadata": {},
   "outputs": [
    {
     "name": "stdout",
     "output_type": "stream",
     "text": [
      "Wynik operacyjny dla okresów (podzielone metodami wyceny)\n",
      "+---------+---------+---------+-----------+\n",
      "|  Okres  |   Fifo  |   Lifo  | śr ważona |\n",
      "+---------+---------+---------+-----------+\n",
      "| Styczeń |  2200.0 |  2200.0 |   2200.0  |\n",
      "|   Luty  |  6700.0 |   5700  |   6500.0  |\n",
      "|  Marzec | 12100.0 | 13100.0 |  12300.0  |\n",
      "+---------+---------+---------+-----------+\n"
     ]
    }
   ],
   "source": [
    "wyniki = PrettyTable()\n",
    "wyniki.field_names = [\"Okres\", \"Fifo\", \"Lifo\", \"śr ważona\"]\n",
    "\n",
    "wyniki.add_row([\"Styczeń\", styczeńWynikiFifo[3], styczeńWynikiLifo[3], styczeńWynikiWażona[3]])\n",
    "wyniki.add_row([\"Luty\",lutyWynikiFifo[3],lutyWynikiLifo[3],lutyWynikiWażona[3]])\n",
    "wyniki.add_row([\"Marzec\",marzecWynikiFifo[3],marzecWynikiLifo[3],marzecWynikiWażona[3]])\n",
    "\n",
    "print(\"Wynik operacyjny dla okresów (podzielone metodami wyceny)\")\n",
    "print(wyniki);"
   ]
  },
  {
   "cell_type": "markdown",
   "metadata": {},
   "source": [
    "## Wnioski z badania:\n",
    "\n",
    "- można zaobserwować, że w zależności od wybranej metody występują znaczne zmiany w wysokości wyniku operacyjnego, jednak ciężko jednoznacznie określić, która metoda zapenwnia najlepsze wyniki\n",
    "- przychody ze sprzedaży rosną wraz ze sprzedażą i ceną sprzedaży wyrobów z okresu na okres\n",
    "- w badanym okresie zauważamy wzrost części kosztów zmiennych (robocizna i zmienne koszty bezpośrednie)\n",
    "- z okresu na okres rosną wszystkie koszty okresu (wydziałowe, sprzedaży, zarządu), jednak przy zachowanej wielkości produkcji na poziomie 4.000 szt. w każdym okresie"
   ]
  },
  {
   "cell_type": "markdown",
   "metadata": {
    "jupyter": {
     "source_hidden": true
    }
   },
   "source": [
    "## brudnopisy\n",
    "print(\"Styczeń\")\n",
    "print(przychodyStyczeń)\n",
    "print(kjzStyczeń)\n",
    "print(kzStyczeń)\n",
    "print(ncStyczeń)\n",
    "print(koStyczeń)\n",
    "print(woStyczeń)\n",
    "print(zapasStyczeń)\n",
    "print()\n",
    "print(\"Luty\")\n",
    "print(przychodyLuty)\n",
    "print(kwLuty)\n",
    "print(kjzLuty)\n",
    "print(kzLuty)\n",
    "print(ncLuty)\n",
    "print(koLuty)\n",
    "print(woLuty)\n",
    "print(zapasLuty)\n",
    "print()\n",
    "print(\"Marzec\")\n",
    "print(przychodyMarzec)\n",
    "print(kwMarzec)\n",
    "print(kjzMarzec)\n",
    "print(kzMarzec)\n",
    "print(ncMarzec)\n",
    "print(koMarzec)\n",
    "print(woMarzec)\n",
    "print(zapasMarzec)"
   ]
  },
  {
   "cell_type": "code",
   "execution_count": null,
   "metadata": {},
   "outputs": [],
   "source": []
  }
 ],
 "metadata": {
  "kernelspec": {
   "display_name": "Python 3",
   "language": "python",
   "name": "python3"
  },
  "language_info": {
   "codemirror_mode": {
    "name": "ipython",
    "version": 3
   },
   "file_extension": ".py",
   "mimetype": "text/x-python",
   "name": "python",
   "nbconvert_exporter": "python",
   "pygments_lexer": "ipython3",
   "version": "3.7.4"
  }
 },
 "nbformat": 4,
 "nbformat_minor": 4
}
